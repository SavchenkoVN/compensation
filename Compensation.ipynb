{
 "cells": [
  {
   "cell_type": "code",
   "execution_count": 3,
   "metadata": {},
   "outputs": [],
   "source": [
    "import numpy as np\n",
    "import pandas as pd\n",
    "import scipy\n",
    "import os\n",
    "#---------------------Peleng fucntions ----------------------------------------------------------------------\n",
    "def SetCSFunc(CSType):\n",
    "    def GetDC(TX_R, TX_Az, TX_El):\n",
    "        VDC = np.zeros(3)\n",
    "        if CSType == 'AoE':\n",
    "            VDC[0] = np.sin(TX_Az) * np.cos(TX_El)\n",
    "            VDC[1] = np.sin(TX_El)\n",
    "            VDC[2] = np.cos(TX_Az) * np.cos(TX_El)\n",
    "        elif CSType == 'Z-AoE':\n",
    "            VDC[0] = np.sin(TX_Az) * np.cos(TX_El) * (np.cos(TX_Az) * np.cos(TX_El)) ** (-1)\n",
    "            VDC[1] = np.sin(TX_El) * (np.cos(TX_Az) * np.cos(TX_El)) ** (-1)\n",
    "            VDC[2] = 1\n",
    "        return VDC * TX_R\n",
    "    return GetDC\n",
    "\n",
    "def SetMRotate(n, Plane, angle):\n",
    "    i = Plane[0]\n",
    "    j = Plane[1]\n",
    "    Res = np.identity(n)\n",
    "    Res[i][j] = np.cos(angle)\n",
    "    Res[i][j] = ((-1)**(i+j)) * np.sin(angle)\n",
    "    Res[j][i] = - Res[i][j]\n",
    "    Res[j][j] =  Res[i][i]\n",
    "    return Res\n",
    "\n",
    "def FSetOffset(TX_R, TX_Az, TX_El, VRX, IsPlaneWave, CSType):\n",
    "    if IsPlaneWave == 1:\n",
    "        return (TX_R, TX_Az, TX_El)\n",
    "    else:\n",
    "        FCS = SetCSFunc(CSType)\n",
    "        VDC = FCS(1,TX_Az, TX_El)\n",
    "        rho = mag(VDC)\n",
    "        Dist = mag(TX_R * VDC - VRX)\n",
    "        VDC[0] = VDC[0] * rho * TX_R / Dist\n",
    "        VDC[1] = VDC[1] * rho * TX_R / Dist\n",
    "        VDC[2] = cmag(np.array([rho, 1j * VDC[0], 1j*VDC[1]]))\n",
    "        Az, El = GetAngles(CSType, VDC)\n",
    "        return Dist, Az, El\n",
    "    \n",
    "def SetAPD(TX_R, TX_Az, TX_El, RX_Roll, VRX, F0, IsPlaneWave, CSType, FSetOffset):\n",
    "    #CSType = lookup(CSType, VCSTypes, VCSRTypes) if IsPlaneWave == 1\n",
    "    if IsPlaneWave == 1:\n",
    "        FCS = SetCSFunc(CSType)\n",
    "        VDC = FCS(1, TX_Az, TX_El)\n",
    "        Buf = 0.5 * np.sqrt(2) *  SetMRotate(2,np.array([0,1]), -RX_Roll) @ (np.array([VDC[0],VDC[1]]))\n",
    "        VDC[0], VDC[1], VDC[2] = Buf[0], Buf[1], 0\n",
    "        Dist = mag(VRX) * np.sign(VRX) @ VDC\n",
    "    else:\n",
    "        VRX = np.matmul(SetMRotate(3, np.array([0,1]), RX_Roll) , VRX)\n",
    "        Dist, _, _ = FSetOffset(TX_R, TX_Az, TX_El, VRX, IsPlaneWave, CSType)\n",
    "    A = 1* FPlu(Dist + (1e3 if IsPlaneWave == 1 else 0), F0)\n",
    "    P = GetAngle(((-1) ** (IsPlaneWave+1)) * Dist * GetK(F0))\n",
    "    return A,P\n",
    "\n",
    "def GetAngles(SType, VDC):\n",
    "    R = cmag(VDC)\n",
    "    U = np.real(VDC[0])\n",
    "    V = np.real(VDC[1])\n",
    "    W = np.real(VDC[2])\n",
    "    if SType == 'AoE':\n",
    "        try:\n",
    "            Az = np.arcsin(U) if IsNaN(R) == 1 else np.arctan2(U, W)\n",
    "            El = np.arcsin(V) if IsNaN(R) == 1 else np.arcsin(V / R)\n",
    "        except:\n",
    "            Az = None\n",
    "            El = None\n",
    "    if SType == 'Z-AoE':\n",
    "        try:\n",
    "            Az = np.arcsin(U) if IsNaN(R) == 1 else np.arctan2(U,W)\n",
    "            El = np.arcsin(V) if IsNaN(R) == 1 else np.arcsin(V/R)\n",
    "        except:\n",
    "            Az = None\n",
    "            El = None\n",
    "    return np.real(Az), np.real(El)\n",
    "\n",
    "def dB2VR(dB):\n",
    "    return 10**(dB/20)\n",
    "\n",
    "def lookup(z, A, B):\n",
    "    i = 0\n",
    "    while z != A[i]:\n",
    "        i = i + 1\n",
    "    return B[i]\n",
    "\n",
    "def IsNaN(a):\n",
    "    return 1 if a == None else 0\n",
    "\n",
    "def cmag(V):\n",
    "    return np.sqrt(np.matmul(V.transpose(), V))\n",
    "\n",
    "def mag(V):\n",
    "    return np.sqrt(np.matmul(V.transpose(), np.conjugate(V)))\n",
    "\n",
    "def FPlu(D, F0):\n",
    "    return (2 * D * GetK(F0)) ** (-1)\n",
    "\n",
    "def GetK(F):\n",
    "    return 2 * np.pi * (1e8 * 2.998 / F) ** (-1)\n",
    "\n",
    "def SetSolver(Base,TX_R,RX_Z,delta,IsPlaneWave,IsRegularCS):\n",
    "    #СК РЕГ\n",
    "    IsRegularCS = np.max([IsRegularCS, IsPlaneWave])\n",
    "    def GetF(DC,delta,Index,Sign):\n",
    "        if IsPlaneWave == 0:\n",
    "            Res = ((TX_R ** 2) * (Base ** 2) * (DC[1-Index] ** 2))  - delta ** 2 * (TX_R ** 2 + RX_Z ** 2 - 2 * RX_Z * TX_R * DC[2] + 0.5 * Base ** 2 + (-1) ** Sign * Base * TX_R * DC[Index] - 1/4 * delta ** 2)\n",
    "        elif IsPlaneWave == 1:\n",
    "            Res = delta + (-1) ** ((Index + Sign) % 2)  * Base * DC[1-Index]\n",
    "        return Res\n",
    "\n",
    "    def GetDeltaX(DC, delta, Index, Sign):\n",
    "        if IsPlaneWave == 0:\n",
    "            Res = (-1) ** (Sign + 1) * Base * TX_R * delta ** 2\n",
    "        else:\n",
    "            Res = 0 # Заглушка\n",
    "        return Res\n",
    "\n",
    "    def GetDeltaY(DC, delta, Index, Sign):\n",
    "        if IsPlaneWave == 0:\n",
    "            Res = 2 * Base ** 2 * TX_R ** 2 * DC[1 - Index]\n",
    "        else:\n",
    "            Res = (-1) ** ((Index + Sign) % 2) * Base # Заглушка\n",
    "        return Res\n",
    "\n",
    "    def GetDeltaW(DC, delta, Index, Sign):\n",
    "        if IsPlaneWave == 0:\n",
    "            Res = 2 * RX_Z * TX_R * delta ** 2\n",
    "        else:\n",
    "            Res = 0 # Заглушка\n",
    "        return Res\n",
    "\n",
    "    # Заполняем Массива Градиента И Функции СК РЕГ\n",
    "    def grad_RCS(DC):\n",
    "        Res = np.empty((5,3), dtype = complex)\n",
    "        Res[0][0] = GetDeltaX(DC, delta[3], 0, 0)\n",
    "        Res[0][1] = GetDeltaY(DC, delta[3], 0, 0)\n",
    "        Res[0][2] = GetDeltaW(DC, delta[3], 0, 0)\n",
    "\n",
    "        Res[1][0] = GetDeltaY(DC, delta[0], 1, 0)\n",
    "        Res[1][1] = GetDeltaX(DC, delta[0], 1, 0)\n",
    "        Res[1][2] = GetDeltaW(DC, delta[0], 1, 0)\n",
    "\n",
    "        Res[2][0] = GetDeltaX(DC, delta[1], 0, 1)\n",
    "        Res[2][1] = GetDeltaY(DC, delta[1], 0, 1)\n",
    "        Res[2][2] = GetDeltaW(DC, delta[1], 0, 1)\n",
    "\n",
    "        Res[3][0] = GetDeltaY(DC, delta[2], 1, 1)\n",
    "        Res[3][1] = GetDeltaX(DC, delta[2], 1, 1)\n",
    "        Res[3][2] = GetDeltaW(DC, delta[2], 1, 1)\n",
    "\n",
    "        Res[4][0] = 2 * DC[0]\n",
    "        Res[4][1] = 2 * DC[1]\n",
    "        Res[4][2] = 2 * DC[2]\n",
    "        return Res\n",
    "\n",
    "    def Func_RCS(DC):\n",
    "        Res = np.empty((5), dtype = complex)\n",
    "        Res[0] = GetF(DC, delta[3], 0,0)\n",
    "        Res[1] = GetF(DC, delta[0], 1,0)\n",
    "        Res[2] = GetF(DC, delta[1], 0, 1)\n",
    "        Res[3] = GetF(DC, delta[2], 1, 1)\n",
    "        Res[4] = cmag(DC) ** 2 -1\n",
    "        return Res\n",
    "\n",
    "    # СК НЕ РЕГ\n",
    "\n",
    "    def GetF1(DC, delta, Index, Sign):\n",
    "        Res = Base ** 2 * TX_R ** 2 * (DC[1-Index]) ** 2 - (DC[2]) ** 2 * delta ** 2 * (RX_Z ** 2 - 2 * RX_Z * TX_R + 0.5 * Base ** 2 - 0.25 * delta ** 2) - (TX_R ** 2 + (-1) ** Sign * Base * TX_R * DC[Index] * DC[2]) * delta ** 2\n",
    "        return Res\n",
    "\n",
    "    def GetDeltaX1(DC, delta, Index, Sign):\n",
    "        Res = 2 * DC[Index] * delta ** 2 * (0.5 * Base ** 2 + RX_Z ** 2 - 2 * RX_Z * TX_R - 1/4 * delta ** 2) - (-1) ** Sign * Base * TX_R * DC[2] * delta ** 2\n",
    "        return Res\n",
    "\n",
    "    def GetDeltaY1(DC, delta, Index, Sign):\n",
    "        Res = 2 * DC[1 - Index] * delta ** 2 * (0.5 * Base ** 2 + RX_Z ** 2 - 2 * RX_Z * TX_R - 1/4 * delta ** 2) + 2 * Base ** 2 * TX_R ** 2 * DC[1 - Index]\n",
    "        return Res\n",
    "\n",
    "    def GetDeltaW1(DC, delta, Index, Sign):\n",
    "        Res = (-1) ** (Sign + 1) * Base * TX_R * DC[Index] * delta ** 2\n",
    "        return Res\n",
    "\n",
    "    def Func_ZCS(DC):\n",
    "        Res = np.empty((5), dtype = complex)\n",
    "        Res[0] = GetF1(DC, delta[3], 0,0)\n",
    "        Res[1] = GetF1(DC, delta[0], 1,0)\n",
    "        Res[2] = GetF1(DC, delta[1], 0, 1)\n",
    "        Res[3] = GetF1(DC, delta[2], 1, 1)\n",
    "        Res[4] = cmag(DC) -1\n",
    "        return Res\n",
    "\n",
    "\n",
    "    def grad_ZCS(DC):\n",
    "        Res = np.empty((5,3), dtype = complex)\n",
    "\n",
    "        Res[0][0] = GetDeltaX1(DC, delta[3], 0, 0)\n",
    "        Res[0][1] = GetDeltaY1(DC, delta[3], 0, 0)\n",
    "        Res[0][2] = GetDeltaW1(DC, delta[3], 0, 0)\n",
    "\n",
    "        Res[1][0] = GetDeltaY1(DC, delta[0], 1, 0)\n",
    "        Res[1][1] = GetDeltaX1(DC, delta[0], 1, 0)\n",
    "        Res[1][2] = GetDeltaW1(DC, delta[0], 1, 0)\n",
    "\n",
    "        Res[2][0] = GetDeltaX1(DC, delta[1], 0, 1)\n",
    "        Res[2][1] = GetDeltaY1(DC, delta[1], 0, 1)\n",
    "        Res[2][2] = GetDeltaW1(DC, delta[1], 0, 1)\n",
    "\n",
    "        Res[3][0] = GetDeltaY1(DC, delta[2], 1, 1)\n",
    "        Res[3][1] = GetDeltaX1(DC, delta[2], 1, 1)\n",
    "        Res[3][2] = GetDeltaW1(DC, delta[2], 1, 1)\n",
    "\n",
    "        Res[4][0] = 2 * DC[0]\n",
    "        Res[4][1] = 2 * DC[1]\n",
    "        Res[4][2] = 2 * DC[2]\n",
    "        return Res\n",
    "    return (Func_ZCS, grad_ZCS) if IsRegularCS == 0  else (Func_RCS, grad_RCS)\n",
    "\n",
    "def DirFind(Vdx, Base, RX_Z, RX_Roll, TX_R, CSType, IsPlaneWave, N, eps):\n",
    "    VCSTypes = ['Z-AoE', 'AoE', 'PS']\n",
    "    VCSRTypes = ['AoE', 'AoE', 'PS']\n",
    "    CSRType = lookup(CSType, VCSTypes, VCSRTypes)\n",
    "    IsRegularCS = (CSType == CSRType)\n",
    "    Func, FGrad = SetSolver(Base,TX_R,RX_Z,Vdx,IsPlaneWave,IsRegularCS)\n",
    "    VDC0 = np.stack([0.5,0.5])\n",
    "    VDC0 = np.append(VDC0, cmag(np.append(1j*VDC0,1)))\n",
    "    WD_Max = 25\n",
    "    WD = 0\n",
    "    i = 0\n",
    "    err = np.array([eps + 1])\n",
    "    VDC = VDC0\n",
    "    VDCN = np.empty(3,dtype=complex)\n",
    "    while i<N if N > 0 else mag(err) > eps:\n",
    "        J = FGrad(VDC)\n",
    "        try:\n",
    "\n",
    "            VDCN = VDC - np.matmul(np.matmul(np.linalg.matrix_power(np.matmul(J.transpose(),J),-1), J.transpose()) ,Func(VDC))\n",
    "            #VDCN = VDC - np.matmul(J.transpose(), J) ** (-1), J.transpose(), Func(VDC)\n",
    "        except:\n",
    "            WD = WD + 1\n",
    "            i = N if WD > WD_Max else 0\n",
    "            VDCN[2] = cmag(np.append(1j*VDCN, 1)) if WD <= WD_Max else None\n",
    "            VDCN[0] = np.random.rand(1)  if WD<=WD_Max else None\n",
    "            VDCN[1] = np.random.rand(1)  if WD<=WD_Max else None\n",
    "        err = VDCN - VDC\n",
    "        VDC = VDCN\n",
    "        i = i + 1\n",
    "    VDC[0] = VDC[0] * (1 if IsPlaneWave == 1 else np.sign(Vdx[0]))\n",
    "    VDC[1] = VDC[1] * (1 if IsPlaneWave == 1 else np.sign(Vdx[1]))\n",
    "    VDC = np.matmul(SetMRotate(3, np.stack([0,1]), RX_Roll) , VDC)\n",
    "    if IsPlaneWave == 1:\n",
    "        VDC[2] = cmag(np.stack([1, 1j*VDC[0], 1j*VDC[1]],1j*VDC[2]))\n",
    "    VDC[2] = cmag(np.stack([1, 1j*VDC[0], 1j*VDC[1]]))\n",
    "    return GetAngles(CSType, VDC)\n",
    "def SetMatrixRX(Base):\n",
    "    MRX = np.zeros((4,2))\n",
    "    MRX[0] = np.stack([-1,-1])\n",
    "    MRX[1] = np.stack([1,-1])\n",
    "    MRX[2] = np.stack([1,1])\n",
    "    MRX[3] = np.stack([-1,1])\n",
    "    return Base * MRX * 0.5\n",
    "#-------------------------------------------------------------------------------------------------\n",
    "\n",
    "def PR2dB(val):         # 2Do: add array support - REWRITE LATER\n",
    "    return 10 * np.log10(val)\n",
    "\n",
    "def VR2dB(val):         # 2Do: add array support - REWRITE LATER\n",
    "    return 2 * PR2dB(val)\n",
    "\n",
    "def GetAngle(alpha):\n",
    "    return np.arctan2(np.sin(alpha), np.cos(alpha))\n",
    "\n",
    "def set_beat(VSA: np.ndarray, VSB : np.ndarray, return_type = 'dB|deg') -> np.ndarray:\n",
    "    ampl = np.sqrt(VSA[0]**2 + VSB[0]**2 + 2* VSA[0] * VSB[0] * np.cos(VSB[1] - VSA[1]))\n",
    "    phase = np.arctan2((VSA[0] * np.sin(VSA[1]) + VSB[0] * np.sin(VSB[1])),(VSA[0] * np.cos(VSA[1]) + VSB[0] * np.cos(VSB[1])))\n",
    "    type_ampl, type_phase = return_type.split('|')\n",
    "    if type_ampl == 'dB':\n",
    "        ampl = PR2dB(ampl)\n",
    "    if type_phase == 'deg':\n",
    "        phase = np.rad2deg(phase)\n",
    "    return np.array([ampl,phase,])\n",
    "\n",
    "def beat_function(S12,SRC,VAP):\n",
    "    F = np.zeros(2)\n",
    "    F[0] = -S12[0]**2 + SRC[0]**2 + VAP[0]**2 + 2 * SRC[0] * VAP[0] * np.cos(SRC[1] - VAP[1])\n",
    "    F[1] = -np.tan(S12[1]) + (SRC[0]*np.sin(SRC[1]) + VAP[0]*np.sin(VAP[1]))/ (SRC[0]*np.cos(SRC[1]) + VAP[0] * np.cos(VAP[1]))\n",
    "    return F\n",
    "\n",
    "def read_data(file_dict : dict):\n",
    "    absolute_path = os.path.join(file_dict['CD'],file_dict['file_name'])\n",
    "    names = [['TimeStamp'],['Freq'],['Azimuth'],['Tilt']]\n",
    "    element_MA = [['A{}_MAG'.format(i),'A{}_ARG'.format(i)] for i in range(4)]\n",
    "    names.extend(element_MA)\n",
    "    names = [item for element in names for item in element]\n",
    "    data_frame = pd.read_csv(absolute_path,sep=';',comment = '#',header = None,names=names)\n",
    "    return data_frame\n",
    "\n",
    "def filter_data(df,freq,az,tilt,num_of_element,iloc):\n",
    "    locls = locals()\n",
    "    errors = 0\n",
    "    for e in ['df', 'iloc', 'num_of_element']:\n",
    "        locls.pop(e)\n",
    "    for key in locls.keys():\n",
    "        if locls[key] not in df.values:\n",
    "            print(f'{key} = {locls[key]} not in DataFrame')\n",
    "            errors = 1\n",
    "    if errors == 1:\n",
    "        return 0\n",
    "    return df[((df.Freq == freq) & (df.Azimuth == az) & (df.Tilt == tilt))][['A{}_MAG'.format(num_of_element),'A{}_ARG'.format(num_of_element)]].iloc[iloc].to_numpy()\n",
    "\n",
    "def convert_data(src,src_format, dst_format):\n",
    "    if src_format == dst_format:\n",
    "        return src\n",
    "    else:\n",
    "        src_mag_format, src_arg_format = src_format.split('|')\n",
    "        dst_mag_format, dst_arg_format = dst_format.split('|')\n",
    "        if src_mag_format != dst_mag_format:\n",
    "            if src_mag_format == 'dB' and dst_mag_format == 'VR':\n",
    "                src[0] = 10**(0.1*src[0])\n",
    "            else:\n",
    "                src[0] = PR2dB(src[0])\n",
    "        if src_arg_format != dst_arg_format:\n",
    "            if src_arg_format == 'deg' and dst_arg_format == 'rad':\n",
    "                src[1] = np.deg2rad(src[1])\n",
    "            else:\n",
    "                src[1] = np.rad2deg(src[1])\n",
    "        return src\n",
    "    \n",
    "def set_beat(VSA: np.ndarray, VSB : np.ndarray, return_type = 'dB|deg') -> np.ndarray:\n",
    "    ampl = np.sqrt(VSA[0]**2 + VSB[0]**2 + 2* VSA[0] * VSB[0] * np.cos(VSB[1] - VSA[1]))\n",
    "    phase = np.arctan2((VSA[0] * np.sin(VSA[1]) + VSB[0] * np.sin(VSB[1])),(VSA[0] * np.cos(VSA[1]) + VSB[0] * np.cos(VSB[1])))\n",
    "    type_ampl, type_phase = return_type.split('|')\n",
    "    if type_ampl == 'dB':\n",
    "        ampl = PR2dB(ampl)\n",
    "    if type_phase == 'deg':\n",
    "        phase = np.rad2deg(phase)\n",
    "    return np.array([ampl,phase,])\n",
    "\n",
    "def beat_function(S12,SRC,VAP):\n",
    "    F = np.zeros(2)\n",
    "    F[0] = -S12[0]**2 + SRC[0]**2 + VAP[0]**2 + 2 * SRC[0] * VAP[0] * np.cos(SRC[1] - VAP[1])\n",
    "    F[1] = -np.tan(S12[1]) + (SRC[0]*np.sin(SRC[1]) + VAP[0]*np.sin(VAP[1]))/ (SRC[0]*np.cos(SRC[1]) + VAP[0] * np.cos(VAP[1]))\n",
    "    return F\n",
    "\n",
    "def target_fuction(delta_rx,ampl_rx, VSRC, VINC,ERROR_CONST):\n",
    "    VINC = VINC.reshape((4,2))\n",
    "    VSRC_reversed = np.roll(VSRC,-1,axis=0)\n",
    "    VINC_reversed = np.roll(VINC,-1,axis=0)\n",
    "    F = np.zeros(8)\n",
    "    for i in range(4):\n",
    "        F[i] = np.angle(VSRC_reversed[i,0] + VINC_reversed[i,0] + 1j *(VSRC_reversed[i,1] + VINC_reversed[i,1])) -\\\n",
    "            np.angle(VSRC[i,0] + VINC[i,0] + 1j *(VSRC[i,1] + VINC[i,1])) - delta_rx[i] + ERROR_CONST[i]\n",
    "    for i in range(4,8):\n",
    "        F[i] = (VSRC[i-4,0] + VINC[i-4,0]) ** 2 + (VSRC[i-4,1] + VINC[i-4,1]) ** 2 - ampl_rx[i-4] ** 2\n",
    "    return F\n"
   ]
  },
  {
   "cell_type": "code",
   "execution_count": 297,
   "metadata": {},
   "outputs": [
    {
     "name": "stdout",
     "output_type": "stream",
     "text": [
      "[[ 3.12903917e-04 -1.49936878e+00]\n",
      " [ 3.42364243e-04 -2.20180905e+00]\n",
      " [ 2.48173268e-04 -1.89206659e+00]\n",
      " [ 1.49375097e-04 -1.85253950e+00]]\n",
      "[-40.246863  17.746936   2.264735  20.235192]\n",
      "[ 30.92125934   0.         -30.92125934   0.        ]\n",
      "[ 0.00051937  0.00087159 -0.00123375 -0.00015721]\n",
      "compensated phase = -89.99922201428257, received phase = -126.154366, P = -15.460629670501442\n"
     ]
    }
   ],
   "source": [
    "SUnits = {'mm' : 1e-3,'cm' : 1e-2,'MHz' : 1e6,'GHz' : 1e9}\n",
    "Base = 7*SUnits['cm']\n",
    "MRX = SetMatrixRX(Base)\n",
    "NUM_OF_ELEMENTS = 4\n",
    "AZ = 6\n",
    "TILT = 0\n",
    "FREQ = 3.5e9\n",
    "TX_R = 20\n",
    "RX_ROLL = 0\n",
    "IS_PLANEWAVE = 1\n",
    "df = read_data(dict(CD = os.getcwd(), file_name = 'Meas_27.05.23.txt'))\n",
    "VSP0 = [convert_data(filter_data(df,freq = FREQ,az = 0,tilt = 0,num_of_element=i,iloc = 0),'dB|deg','VR|rad') for i in [3,2,1,0]]\n",
    "VSRX = [convert_data(filter_data(df,freq = FREQ,az = AZ,tilt = TILT,num_of_element=i,iloc = 0),'dB|deg','VR|rad') for i in [3,2,1,0]]\n",
    "phase_rx = np.zeros(NUM_OF_ELEMENTS)\n",
    "ampl_rx = np.zeros(NUM_OF_ELEMENTS)\n",
    "phase_p0 = np.zeros(NUM_OF_ELEMENTS)\n",
    "for i in range(len(phase_rx)):\n",
    "    phase_rx[i] = VSRX[i][1]\n",
    "    phase_p0[i] = VSP0[i][1]\n",
    "    ampl_rx[i] = VSRX[i][0]\n",
    "VSRX = np.array(VSRX)\n",
    "delta_phase = GetAngle(np.roll(phase_rx,-1) - phase_rx)\n",
    "error_const = GetAngle(np.roll(phase_p0,-1) - phase_p0)\n",
    "VSRC = np.zeros((NUM_OF_ELEMENTS,2))\n",
    "phase_src = np.zeros(NUM_OF_ELEMENTS)\n",
    "for i in range(NUM_OF_ELEMENTS):\n",
    "    A,P = SetAPD(10, np.deg2rad(AZ), -np.deg2rad(TILT), RX_ROLL, np.stack([MRX[i][0],MRX[i][1],0]), FREQ, IS_PLANEWAVE, 'Z-AoE', FSetOffset)\n",
    "    phase_src[i] = P\n",
    "    complex_value = A * np.exp(1j*P)\n",
    "    VSRC[i,:] = [np.real(complex_value) , np.imag(complex_value)] \n",
    "delta_phase_src = GetAngle(np.roll(phase_src,-1) - phase_src)\n",
    "VX0 = np.zeros(NUM_OF_ELEMENTS * 2)\n",
    "print(VSRX)\n",
    "VX0 = VSRX.reshape((1,NUM_OF_ELEMENTS * 2))\n",
    "VX0 = VSRC.reshape((1,NUM_OF_ELEMENTS * 2))\n",
    "func = lambda VINC: target_fuction(delta_phase,ampl_rx, VSRC, VINC,error_const)\n",
    "result = scipy.optimize.fsolve(func,VX0,maxfev = 10000,xtol=1e-10)\n",
    "result = result.reshape(NUM_OF_ELEMENTS,2)\n",
    "VSC = VSRX - result\n",
    "index = 1\n",
    "phase_compensated = np.array([(np.angle(VSC[index,0] + 1j*VSC[index,1])) for index in range(NUM_OF_ELEMENTS)])\n",
    "delta_phase_comp = (np.roll(phase_compensated,-1) - phase_compensated)\n",
    "print(np.rad2deg(delta_phase))\n",
    "print(np.rad2deg(delta_phase_src))\n",
    "print(np.rad2deg(delta_phase_comp))\n",
    "print(f'compensated phase = {np.rad2deg(np.angle(VSC[index,0] + 1j*VSC[index,1]))}, received phase = {np.rad2deg(phase_rx[index])}, P = {np.rad2deg(P)}')\n"
   ]
  },
  {
   "cell_type": "code",
   "execution_count": 298,
   "metadata": {},
   "outputs": [
    {
     "data": {
      "text/plain": [
       "array([[ 3.12705842e-04,  1.11318310e-05],\n",
       "       [ 3.19038579e-04, -1.24208131e-04],\n",
       "       [ 2.00273739e-04, -1.46561935e-04],\n",
       "       [ 1.42499657e-04,  4.47969568e-05]])"
      ]
     },
     "execution_count": 298,
     "metadata": {},
     "output_type": "execute_result"
    }
   ],
   "source": [
    "VSRC + result "
   ]
  },
  {
   "cell_type": "code",
   "execution_count": 299,
   "metadata": {},
   "outputs": [
    {
     "data": {
      "text/plain": [
       "array([[ 3.12903917e-04, -1.49936878e+00],\n",
       "       [ 3.42364243e-04, -2.20180905e+00],\n",
       "       [ 2.48173268e-04, -1.89206659e+00],\n",
       "       [ 1.49375097e-04, -1.85253950e+00]])"
      ]
     },
     "execution_count": 299,
     "metadata": {},
     "output_type": "execute_result"
    }
   ],
   "source": [
    "VSRX"
   ]
  },
  {
   "cell_type": "code",
   "execution_count": 293,
   "metadata": {},
   "outputs": [
    {
     "data": {
      "text/plain": [
       "array([[ 6.76781957e-06, -1.49938173e+00],\n",
       "       [ 2.98953599e-05, -2.20168303e+00],\n",
       "       [ 5.44692257e-05, -1.89191821e+00],\n",
       "       [ 1.34451845e-05, -1.85258612e+00]])"
      ]
     },
     "execution_count": 293,
     "metadata": {},
     "output_type": "execute_result"
    }
   ],
   "source": [
    "VSC"
   ]
  },
  {
   "cell_type": "code",
   "execution_count": 294,
   "metadata": {},
   "outputs": [
    {
     "data": {
      "text/plain": [
       "array([[ 3.12903917e-04, -1.49936878e+00],\n",
       "       [ 3.42364243e-04, -2.20180905e+00],\n",
       "       [ 2.48173268e-04, -1.89206659e+00],\n",
       "       [ 1.49375097e-04, -1.85253950e+00]])"
      ]
     },
     "execution_count": 294,
     "metadata": {},
     "output_type": "execute_result"
    }
   ],
   "source": [
    "VSRX"
   ]
  },
  {
   "cell_type": "code",
   "execution_count": 237,
   "metadata": {},
   "outputs": [
    {
     "name": "stdout",
     "output_type": "stream",
     "text": [
      "result = [[ 0.57810547  2.28560284]\n",
      " [-0.41934108  2.50643816]\n",
      " [ 0.93092987  6.39358469]\n",
      " [ 6.34350704  4.22471209]]\n",
      "VSC = [[ 1.42189453  0.21439716]\n",
      " [ 0.71934108  0.74356184]\n",
      " [ 2.06907013  0.10641531]\n",
      " [ 1.65649296 -0.72471209]]\n",
      "VSSRC = [[1.   0.5 ]\n",
      " [0.2  0.75]\n",
      " [1.   0.5 ]\n",
      " [1.   0.5 ]]\n",
      "VSRX = [[2.   2.5 ]\n",
      " [0.3  3.25]\n",
      " [3.   6.5 ]\n",
      " [8.   3.5 ]]\n",
      "delta comp  = [ 37.37391725 -43.00432723 -26.57348575  32.20389573]\n",
      "delta rx = [ 33.3859123  -19.50124461 -41.5954817   27.71081402]\n",
      "delta src = [ 48.50353164 -48.50353164   0.           0.        ]\n",
      "phase com = [  8.57462183  45.94853908   2.94421185 -23.6292739 ]\n",
      "[  10.80886607 -118.07291005  -53.13853693    5.63884455]\n"
     ]
    }
   ],
   "source": [
    "# DO SOME TEST \n",
    "error_const = np.zeros(4)\n",
    "VSSRC = np.array([[1,0.5],[0.2,0.75],[1,0.5],[1,0.5]])\n",
    "VSINC = np.array([[1,2],[0.1,2.5],[2,6],[7,3]])\n",
    "phase_src= np.array([(np.angle(VSSRC[index,0] + 1j*VSSRC[index,1])) for index in range(NUM_OF_ELEMENTS)])\n",
    "delta_phase_src = GetAngle(np.roll(phase_src,-1) - phase_src)\n",
    "VSSRC_reversed = np.roll(VSSRC,-1,axis = 0)\n",
    "VSINC_reversed = np.roll(VSINC,-1,axis = 0)\n",
    "VSRX = VSSRC + VSINC\n",
    "ampl_rx = [np.abs(VSRX[i,0] + 1j * VSRX[i,1]) for i in range(4)]\n",
    "VSRX_reversed = np.roll(VSRX,-1,axis = 0)\n",
    "delta_phase = [np.arctan2(VSRX_reversed[i,1],VSRX_reversed[i,0])-np.arctan2(VSRX[i,1],VSRX[i,0]) for i in range(4)]\n",
    "#target_fuction(delta_phase,ampl_rx, VSSRC, VSINC,error_const)\n",
    "func = lambda VINC: target_fuction(delta_phase,ampl_rx, VSSRC, VINC,error_const)\n",
    "result = scipy.optimize.root(func,VSRX,method = 'hybr')\n",
    "result = result.x\n",
    "result = result.reshape(4,2)\n",
    "# compl_res = [(result[i,0]+1j*result[i,1])*np.exp(-1j*np.pi) for i in range(NUM_OF_ELEMENTS)]\n",
    "# result_real, result_compl = (np.array([np.real(compl_res[i]) for i in range(NUM_OF_ELEMENTS)]), np.array([np.imag(compl_res[i]) for i in range(NUM_OF_ELEMENTS)]))\n",
    "# result = np.column_stack((result_real,result_compl))\n",
    "print(f'result = {result}')\n",
    "VSC = VSRX - result\n",
    "print(f'VSC = {VSC}')\n",
    "print(f'VSSRC = {VSSRC}')\n",
    "print(f'VSRX = {VSRX}')\n",
    "phase_compensated = np.array([(np.angle(VSC[index,0] + 1j*VSC[index,1])) for index in range(NUM_OF_ELEMENTS)])\n",
    "delta_phase_comp = GetAngle(np.roll(phase_compensated,-1) - phase_compensated)\n",
    "print(f'delta comp  = {np.rad2deg(delta_phase_comp)}')\n",
    "print(f'delta rx = {np.rad2deg(delta_phase)}')\n",
    "print(f'delta src = {np.rad2deg(delta_phase_src)}')\n",
    "print(f'phase com = {np.rad2deg(phase_compensated)}')"
   ]
  },
  {
   "cell_type": "code",
   "execution_count": 218,
   "metadata": {},
   "outputs": [
    {
     "data": {
      "text/plain": [
       "array([[ True,  True],\n",
       "       [ True,  True],\n",
       "       [ True,  True],\n",
       "       [ True,  True]])"
      ]
     },
     "execution_count": 218,
     "metadata": {},
     "output_type": "execute_result"
    }
   ],
   "source": [
    "VSRX - VSINC == VSSRC"
   ]
  },
  {
   "cell_type": "code",
   "execution_count": 212,
   "metadata": {},
   "outputs": [
    {
     "data": {
      "text/plain": [
       "array([ 0.00000000e+00,  0.00000000e+00,  0.00000000e+00,  0.00000000e+00,\n",
       "       -3.55271368e-15,  0.00000000e+00,  0.00000000e+00,  0.00000000e+00])"
      ]
     },
     "execution_count": 212,
     "metadata": {},
     "output_type": "execute_result"
    }
   ],
   "source": [
    "func(result)"
   ]
  },
  {
   "cell_type": "code",
   "execution_count": 154,
   "metadata": {},
   "outputs": [
    {
     "data": {
      "text/plain": [
       "array([0., 0., 0., 0., 0., 0., 0., 0.])"
      ]
     },
     "execution_count": 154,
     "metadata": {},
     "output_type": "execute_result"
    }
   ],
   "source": [
    "func(VSINC)"
   ]
  },
  {
   "cell_type": "code",
   "execution_count": 159,
   "metadata": {},
   "outputs": [
    {
     "data": {
      "text/plain": [
       "array([[27.,  1.],\n",
       "       [29.,  1.],\n",
       "       [27.,  1.],\n",
       "       [28.,  1.]])"
      ]
     },
     "execution_count": 159,
     "metadata": {},
     "output_type": "execute_result"
    }
   ],
   "source": [
    "VSINC + VSSRC"
   ]
  },
  {
   "cell_type": "code",
   "execution_count": 168,
   "metadata": {},
   "outputs": [
    {
     "data": {
      "text/plain": [
       "array([[27.,  2.],\n",
       "       [29.,  2.],\n",
       "       [27.,  2.],\n",
       "       [28.,  2.]])"
      ]
     },
     "execution_count": 168,
     "metadata": {},
     "output_type": "execute_result"
    }
   ],
   "source": [
    "VSRX "
   ]
  },
  {
   "cell_type": "code",
   "execution_count": 184,
   "metadata": {},
   "outputs": [
    {
     "data": {
      "text/plain": [
       "array([[1.14233728, 3.93400395],\n",
       "       [1.14233728, 3.93400395],\n",
       "       [1.14233728, 3.93400395],\n",
       "       [1.14233728, 3.93400395]])"
      ]
     },
     "execution_count": 184,
     "metadata": {},
     "output_type": "execute_result"
    }
   ],
   "source": [
    "result"
   ]
  },
  {
   "cell_type": "code",
   "execution_count": 182,
   "metadata": {},
   "outputs": [
    {
     "data": {
      "text/plain": [
       "array([[ 39.1986504 , -20.89531523],\n",
       "       [ 37.84039929, -20.12840039],\n",
       "       [ 35.12389705, -18.59457071],\n",
       "       [ 36.48214817, -19.36148555]])"
      ]
     },
     "execution_count": 182,
     "metadata": {},
     "output_type": "execute_result"
    }
   ],
   "source": []
  },
  {
   "cell_type": "code",
   "execution_count": 62,
   "metadata": {},
   "outputs": [
    {
     "name": "stdout",
     "output_type": "stream",
     "text": [
      "74.49370478269131\n",
      "1.4320961841646465\n"
     ]
    }
   ],
   "source": [
    "print(np.rad2deg(np.angle(result[3,0] + 1j*result[3,1])))\n",
    "print(np.rad2deg(np.angle(VSINC[1,0] + 1j*VSINC[1,1])))"
   ]
  },
  {
   "cell_type": "code",
   "execution_count": null,
   "metadata": {},
   "outputs": [],
   "source": []
  }
 ],
 "metadata": {
  "kernelspec": {
   "display_name": "Python 3",
   "language": "python",
   "name": "python3"
  },
  "language_info": {
   "codemirror_mode": {
    "name": "ipython",
    "version": 3
   },
   "file_extension": ".py",
   "mimetype": "text/x-python",
   "name": "python",
   "nbconvert_exporter": "python",
   "pygments_lexer": "ipython3",
   "version": "3.10.2"
  },
  "orig_nbformat": 4
 },
 "nbformat": 4,
 "nbformat_minor": 2
}
