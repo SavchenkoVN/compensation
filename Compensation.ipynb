{
 "cells": [
  {
   "cell_type": "code",
   "execution_count": 62,
   "metadata": {},
   "outputs": [],
   "source": [
    "import numpy as np\n",
    "import pandas as pd\n",
    "import scipy\n",
    "import os\n",
    "#---------------------Peleng fucntions ----------------------------------------------------------------------\n",
    "def SetCSFunc(CSType):\n",
    "    def GetDC(TX_R, TX_Az, TX_El):\n",
    "        VDC = np.zeros(3)\n",
    "        if CSType == 'AoE':\n",
    "            VDC[0] = np.sin(TX_Az) * np.cos(TX_El)\n",
    "            VDC[1] = np.sin(TX_El)\n",
    "            VDC[2] = np.cos(TX_Az) * np.cos(TX_El)\n",
    "        elif CSType == 'Z-AoE':\n",
    "            VDC[0] = np.sin(TX_Az) * np.cos(TX_El) * (np.cos(TX_Az) * np.cos(TX_El)) ** (-1)\n",
    "            VDC[1] = np.sin(TX_El) * (np.cos(TX_Az) * np.cos(TX_El)) ** (-1)\n",
    "            VDC[2] = 1\n",
    "        return VDC * TX_R\n",
    "    return GetDC\n",
    "\n",
    "def SetMRotate(n, Plane, angle):\n",
    "    i = Plane[0]\n",
    "    j = Plane[1]\n",
    "    Res = np.identity(n)\n",
    "    Res[i][j] = np.cos(angle)\n",
    "    Res[i][j] = ((-1)**(i+j)) * np.sin(angle)\n",
    "    Res[j][i] = - Res[i][j]\n",
    "    Res[j][j] =  Res[i][i]\n",
    "    return Res\n",
    "\n",
    "def FSetOffset(TX_R, TX_Az, TX_El, VRX, IsPlaneWave, CSType):\n",
    "    if IsPlaneWave == 1:\n",
    "        return (TX_R, TX_Az, TX_El)\n",
    "    else:\n",
    "        FCS = SetCSFunc(CSType)\n",
    "        VDC = FCS(1,TX_Az, TX_El)\n",
    "        rho = mag(VDC)\n",
    "        Dist = mag(TX_R * VDC - VRX)\n",
    "        VDC[0] = VDC[0] * rho * TX_R / Dist\n",
    "        VDC[1] = VDC[1] * rho * TX_R / Dist\n",
    "        VDC[2] = cmag(np.array([rho, 1j * VDC[0], 1j*VDC[1]]))\n",
    "        Az, El = GetAngles(CSType, VDC)\n",
    "        return Dist, Az, El\n",
    "    \n",
    "def SetAPD(TX_R, TX_Az, TX_El, RX_Roll, VRX, F0, IsPlaneWave, CSType, FSetOffset):\n",
    "    #CSType = lookup(CSType, VCSTypes, VCSRTypes) if IsPlaneWave == 1\n",
    "    if IsPlaneWave == 1:\n",
    "        FCS = SetCSFunc(CSType)\n",
    "        VDC = FCS(1, TX_Az, TX_El)\n",
    "        Buf = 0.5 * np.sqrt(2) *  SetMRotate(2,np.array([0,1]), -RX_Roll) @ (np.array([VDC[0],VDC[1]]))\n",
    "        VDC[0], VDC[1], VDC[2] = Buf[0], Buf[1], 0\n",
    "        Dist = mag(VRX) * np.sign(VRX) @ VDC\n",
    "    else:\n",
    "        VRX = np.matmul(SetMRotate(3, np.array([0,1]), RX_Roll) , VRX)\n",
    "        Dist, _, _ = FSetOffset(TX_R, TX_Az, TX_El, VRX, IsPlaneWave, CSType)\n",
    "    A = 1* FPlu(Dist + (1e3 if IsPlaneWave == 1 else 0), F0)\n",
    "    P = GetAngle(((-1) ** (IsPlaneWave+1)) * Dist * GetK(F0))\n",
    "    return A,P\n",
    "\n",
    "def GetAngles(SType, VDC):\n",
    "    R = cmag(VDC)\n",
    "    U = np.real(VDC[0])\n",
    "    V = np.real(VDC[1])\n",
    "    W = np.real(VDC[2])\n",
    "    if SType == 'AoE':\n",
    "        try:\n",
    "            Az = np.arcsin(U) if IsNaN(R) == 1 else np.arctan2(U, W)\n",
    "            El = np.arcsin(V) if IsNaN(R) == 1 else np.arcsin(V / R)\n",
    "        except:\n",
    "            Az = None\n",
    "            El = None\n",
    "    if SType == 'Z-AoE':\n",
    "        try:\n",
    "            Az = np.arcsin(U) if IsNaN(R) == 1 else np.arctan2(U,W)\n",
    "            El = np.arcsin(V) if IsNaN(R) == 1 else np.arcsin(V/R)\n",
    "        except:\n",
    "            Az = None\n",
    "            El = None\n",
    "    return np.real(Az), np.real(El)\n",
    "\n",
    "def dB2VR(dB):\n",
    "    return 10**(dB/20)\n",
    "\n",
    "def lookup(z, A, B):\n",
    "    i = 0\n",
    "    while z != A[i]:\n",
    "        i = i + 1\n",
    "    return B[i]\n",
    "\n",
    "def IsNaN(a):\n",
    "    return 1 if a == None else 0\n",
    "\n",
    "def cmag(V):\n",
    "    return np.sqrt(np.matmul(V.transpose(), V))\n",
    "\n",
    "def mag(V):\n",
    "    return np.sqrt(np.matmul(V.transpose(), np.conjugate(V)))\n",
    "\n",
    "def FPlu(D, F0):\n",
    "    return (2 * D * GetK(F0)) ** (-1)\n",
    "\n",
    "def GetK(F):\n",
    "    return 2 * np.pi * (1e8 * 2.998 / F) ** (-1)\n",
    "\n",
    "def SetSolver(Base,TX_R,RX_Z,delta,IsPlaneWave,IsRegularCS):\n",
    "    #СК РЕГ\n",
    "    IsRegularCS = np.max([IsRegularCS, IsPlaneWave])\n",
    "    def GetF(DC,delta,Index,Sign):\n",
    "        if IsPlaneWave == 0:\n",
    "            Res = ((TX_R ** 2) * (Base ** 2) * (DC[1-Index] ** 2))  - delta ** 2 * (TX_R ** 2 + RX_Z ** 2 - 2 * RX_Z * TX_R * DC[2] + 0.5 * Base ** 2 + (-1) ** Sign * Base * TX_R * DC[Index] - 1/4 * delta ** 2)\n",
    "        elif IsPlaneWave == 1:\n",
    "            Res = delta + (-1) ** ((Index + Sign) % 2)  * Base * DC[1-Index]\n",
    "        return Res\n",
    "\n",
    "    def GetDeltaX(DC, delta, Index, Sign):\n",
    "        if IsPlaneWave == 0:\n",
    "            Res = (-1) ** (Sign + 1) * Base * TX_R * delta ** 2\n",
    "        else:\n",
    "            Res = 0 # Заглушка\n",
    "        return Res\n",
    "\n",
    "    def GetDeltaY(DC, delta, Index, Sign):\n",
    "        if IsPlaneWave == 0:\n",
    "            Res = 2 * Base ** 2 * TX_R ** 2 * DC[1 - Index]\n",
    "        else:\n",
    "            Res = (-1) ** ((Index + Sign) % 2) * Base # Заглушка\n",
    "        return Res\n",
    "\n",
    "    def GetDeltaW(DC, delta, Index, Sign):\n",
    "        if IsPlaneWave == 0:\n",
    "            Res = 2 * RX_Z * TX_R * delta ** 2\n",
    "        else:\n",
    "            Res = 0 # Заглушка\n",
    "        return Res\n",
    "\n",
    "    # Заполняем Массива Градиента И Функции СК РЕГ\n",
    "    def grad_RCS(DC):\n",
    "        Res = np.empty((5,3), dtype = complex)\n",
    "        Res[0][0] = GetDeltaX(DC, delta[3], 0, 0)\n",
    "        Res[0][1] = GetDeltaY(DC, delta[3], 0, 0)\n",
    "        Res[0][2] = GetDeltaW(DC, delta[3], 0, 0)\n",
    "\n",
    "        Res[1][0] = GetDeltaY(DC, delta[0], 1, 0)\n",
    "        Res[1][1] = GetDeltaX(DC, delta[0], 1, 0)\n",
    "        Res[1][2] = GetDeltaW(DC, delta[0], 1, 0)\n",
    "\n",
    "        Res[2][0] = GetDeltaX(DC, delta[1], 0, 1)\n",
    "        Res[2][1] = GetDeltaY(DC, delta[1], 0, 1)\n",
    "        Res[2][2] = GetDeltaW(DC, delta[1], 0, 1)\n",
    "\n",
    "        Res[3][0] = GetDeltaY(DC, delta[2], 1, 1)\n",
    "        Res[3][1] = GetDeltaX(DC, delta[2], 1, 1)\n",
    "        Res[3][2] = GetDeltaW(DC, delta[2], 1, 1)\n",
    "\n",
    "        Res[4][0] = 2 * DC[0]\n",
    "        Res[4][1] = 2 * DC[1]\n",
    "        Res[4][2] = 2 * DC[2]\n",
    "        return Res\n",
    "\n",
    "    def Func_RCS(DC):\n",
    "        Res = np.empty((5), dtype = complex)\n",
    "        Res[0] = GetF(DC, delta[3], 0,0)\n",
    "        Res[1] = GetF(DC, delta[0], 1,0)\n",
    "        Res[2] = GetF(DC, delta[1], 0, 1)\n",
    "        Res[3] = GetF(DC, delta[2], 1, 1)\n",
    "        Res[4] = cmag(DC) ** 2 -1\n",
    "        return Res\n",
    "\n",
    "    # СК НЕ РЕГ\n",
    "\n",
    "    def GetF1(DC, delta, Index, Sign):\n",
    "        Res = Base ** 2 * TX_R ** 2 * (DC[1-Index]) ** 2 - (DC[2]) ** 2 * delta ** 2 * (RX_Z ** 2 - 2 * RX_Z * TX_R + 0.5 * Base ** 2 - 0.25 * delta ** 2) - (TX_R ** 2 + (-1) ** Sign * Base * TX_R * DC[Index] * DC[2]) * delta ** 2\n",
    "        return Res\n",
    "\n",
    "    def GetDeltaX1(DC, delta, Index, Sign):\n",
    "        Res = 2 * DC[Index] * delta ** 2 * (0.5 * Base ** 2 + RX_Z ** 2 - 2 * RX_Z * TX_R - 1/4 * delta ** 2) - (-1) ** Sign * Base * TX_R * DC[2] * delta ** 2\n",
    "        return Res\n",
    "\n",
    "    def GetDeltaY1(DC, delta, Index, Sign):\n",
    "        Res = 2 * DC[1 - Index] * delta ** 2 * (0.5 * Base ** 2 + RX_Z ** 2 - 2 * RX_Z * TX_R - 1/4 * delta ** 2) + 2 * Base ** 2 * TX_R ** 2 * DC[1 - Index]\n",
    "        return Res\n",
    "\n",
    "    def GetDeltaW1(DC, delta, Index, Sign):\n",
    "        Res = (-1) ** (Sign + 1) * Base * TX_R * DC[Index] * delta ** 2\n",
    "        return Res\n",
    "\n",
    "    def Func_ZCS(DC):\n",
    "        Res = np.empty((5), dtype = complex)\n",
    "        Res[0] = GetF1(DC, delta[3], 0,0)\n",
    "        Res[1] = GetF1(DC, delta[0], 1,0)\n",
    "        Res[2] = GetF1(DC, delta[1], 0, 1)\n",
    "        Res[3] = GetF1(DC, delta[2], 1, 1)\n",
    "        Res[4] = cmag(DC) -1\n",
    "        return Res\n",
    "\n",
    "\n",
    "    def grad_ZCS(DC):\n",
    "        Res = np.empty((5,3), dtype = complex)\n",
    "\n",
    "        Res[0][0] = GetDeltaX1(DC, delta[3], 0, 0)\n",
    "        Res[0][1] = GetDeltaY1(DC, delta[3], 0, 0)\n",
    "        Res[0][2] = GetDeltaW1(DC, delta[3], 0, 0)\n",
    "\n",
    "        Res[1][0] = GetDeltaY1(DC, delta[0], 1, 0)\n",
    "        Res[1][1] = GetDeltaX1(DC, delta[0], 1, 0)\n",
    "        Res[1][2] = GetDeltaW1(DC, delta[0], 1, 0)\n",
    "\n",
    "        Res[2][0] = GetDeltaX1(DC, delta[1], 0, 1)\n",
    "        Res[2][1] = GetDeltaY1(DC, delta[1], 0, 1)\n",
    "        Res[2][2] = GetDeltaW1(DC, delta[1], 0, 1)\n",
    "\n",
    "        Res[3][0] = GetDeltaY1(DC, delta[2], 1, 1)\n",
    "        Res[3][1] = GetDeltaX1(DC, delta[2], 1, 1)\n",
    "        Res[3][2] = GetDeltaW1(DC, delta[2], 1, 1)\n",
    "\n",
    "        Res[4][0] = 2 * DC[0]\n",
    "        Res[4][1] = 2 * DC[1]\n",
    "        Res[4][2] = 2 * DC[2]\n",
    "        return Res\n",
    "    return (Func_ZCS, grad_ZCS) if IsRegularCS == 0  else (Func_RCS, grad_RCS)\n",
    "\n",
    "def DirFind(Vdx, Base, RX_Z, RX_Roll, TX_R, CSType, IsPlaneWave, N, eps):\n",
    "    VCSTypes = ['Z-AoE', 'AoE', 'PS']\n",
    "    VCSRTypes = ['AoE', 'AoE', 'PS']\n",
    "    CSRType = lookup(CSType, VCSTypes, VCSRTypes)\n",
    "    IsRegularCS = (CSType == CSRType)\n",
    "    Func, FGrad = SetSolver(Base,TX_R,RX_Z,Vdx,IsPlaneWave,IsRegularCS)\n",
    "    VDC0 = np.stack([0.5,0.5])\n",
    "    VDC0 = np.append(VDC0, cmag(np.append(1j*VDC0,1)))\n",
    "    WD_Max = 25\n",
    "    WD = 0\n",
    "    i = 0\n",
    "    err = np.array([eps + 1])\n",
    "    VDC = VDC0\n",
    "    VDCN = np.empty(3,dtype=complex)\n",
    "    while i<N if N > 0 else mag(err) > eps:\n",
    "        J = FGrad(VDC)\n",
    "        try:\n",
    "\n",
    "            VDCN = VDC - np.matmul(np.matmul(np.linalg.matrix_power(np.matmul(J.transpose(),J),-1), J.transpose()) ,Func(VDC))\n",
    "            #VDCN = VDC - np.matmul(J.transpose(), J) ** (-1), J.transpose(), Func(VDC)\n",
    "        except:\n",
    "            WD = WD + 1\n",
    "            i = N if WD > WD_Max else 0\n",
    "            VDCN[2] = cmag(np.append(1j*VDCN, 1)) if WD <= WD_Max else None\n",
    "            VDCN[0] = np.random.rand(1)  if WD<=WD_Max else None\n",
    "            VDCN[1] = np.random.rand(1)  if WD<=WD_Max else None\n",
    "        err = VDCN - VDC\n",
    "        VDC = VDCN\n",
    "        i = i + 1\n",
    "    VDC[0] = VDC[0] * (1 if IsPlaneWave == 1 else np.sign(Vdx[0]))\n",
    "    VDC[1] = VDC[1] * (1 if IsPlaneWave == 1 else np.sign(Vdx[1]))\n",
    "    VDC = np.matmul(SetMRotate(3, np.stack([0,1]), RX_Roll) , VDC)\n",
    "    if IsPlaneWave == 1:\n",
    "        VDC[2] = cmag(np.stack([1, 1j*VDC[0], 1j*VDC[1]],1j*VDC[2]))\n",
    "    VDC[2] = cmag(np.stack([1, 1j*VDC[0], 1j*VDC[1]]))\n",
    "    return GetAngles(CSType, VDC)\n",
    "def SetMatrixRX(Base):\n",
    "    MRX = np.zeros((4,2))\n",
    "    MRX[0] = np.stack([-1,-1])\n",
    "    MRX[1] = np.stack([1,-1])\n",
    "    MRX[2] = np.stack([1,1])\n",
    "    MRX[3] = np.stack([-1,1])\n",
    "    return Base * MRX * 0.5\n",
    "#-------------------------------------------------------------------------------------------------\n",
    "\n",
    "def PR2dB(val):         # 2Do: add array support - REWRITE LATER\n",
    "    return 10 * np.log10(val)\n",
    "\n",
    "def VR2dB(val):         # 2Do: add array support - REWRITE LATER\n",
    "    return 2 * PR2dB(val)\n",
    "\n",
    "def GetAngle(alpha):\n",
    "    return np.arctan2(np.sin(alpha), np.cos(alpha))\n",
    "\n",
    "def set_beat(VSA: np.ndarray, VSB : np.ndarray, return_type = 'dB|deg') -> np.ndarray:\n",
    "    ampl = np.sqrt(VSA[0]**2 + VSB[0]**2 + 2* VSA[0] * VSB[0] * np.cos(VSB[1] - VSA[1]))\n",
    "    phase = np.arctan2((VSA[0] * np.sin(VSA[1]) + VSB[0] * np.sin(VSB[1])),(VSA[0] * np.cos(VSA[1]) + VSB[0] * np.cos(VSB[1])))\n",
    "    type_ampl, type_phase = return_type.split('|')\n",
    "    if type_ampl == 'dB':\n",
    "        ampl = PR2dB(ampl)\n",
    "    if type_phase == 'deg':\n",
    "        phase = np.rad2deg(phase)\n",
    "    return np.array([ampl,phase,])\n",
    "\n",
    "def beat_function(S12,SRC,VAP):\n",
    "    F = np.zeros(2)\n",
    "    F[0] = -S12[0]**2 + SRC[0]**2 + VAP[0]**2 + 2 * SRC[0] * VAP[0] * np.cos(SRC[1] - VAP[1])\n",
    "    F[1] = -np.tan(S12[1]) + (SRC[0]*np.sin(SRC[1]) + VAP[0]*np.sin(VAP[1]))/ (SRC[0]*np.cos(SRC[1]) + VAP[0] * np.cos(VAP[1]))\n",
    "    return F\n",
    "\n",
    "def read_data(file_dict : dict):\n",
    "    absolute_path = os.path.join(file_dict['CD'],file_dict['file_name'])\n",
    "    names = [['TimeStamp'],['Freq'],['Azimuth'],['Tilt']]\n",
    "    element_MA = [['A{}_MAG'.format(i),'A{}_ARG'.format(i)] for i in range(4)]\n",
    "    names.extend(element_MA)\n",
    "    names = [item for element in names for item in element]\n",
    "    data_frame = pd.read_csv(absolute_path,sep=';',comment = '#',header = None,names=names)\n",
    "    return data_frame\n",
    "\n",
    "def filter_data(df,freq,az,tilt,num_of_element,iloc):\n",
    "    locls = locals()\n",
    "    errors = 0\n",
    "    for e in ['df', 'iloc', 'num_of_element']:\n",
    "        locls.pop(e)\n",
    "    for key in locls.keys():\n",
    "        if locls[key] not in df.values:\n",
    "            print(f'{key} = {locls[key]} not in DataFrame')\n",
    "            errors = 1\n",
    "    if errors == 1:\n",
    "        return 0\n",
    "    return df[((df.Freq == freq) & (df.Azimuth == az) & (df.Tilt == tilt))][['A{}_MAG'.format(num_of_element),'A{}_ARG'.format(num_of_element)]].iloc[iloc].to_numpy()\n",
    "\n",
    "def convert_data(src,src_format, dst_format):\n",
    "    if src_format == dst_format:\n",
    "        return src\n",
    "    else:\n",
    "        src_mag_format, src_arg_format = src_format.split('|')\n",
    "        dst_mag_format, dst_arg_format = dst_format.split('|')\n",
    "        if src_mag_format != dst_mag_format:\n",
    "            if src_mag_format == 'dB' and dst_mag_format == 'VR':\n",
    "                src[0] = 10**(0.1*src[0])\n",
    "            else:\n",
    "                src[0] = PR2dB(src[0])\n",
    "        if src_arg_format != dst_arg_format:\n",
    "            if src_arg_format == 'deg' and dst_arg_format == 'rad':\n",
    "                src[1] = np.deg2rad(src[1])\n",
    "            else:\n",
    "                src[1] = np.rad2deg(src[1])\n",
    "        return src\n",
    "    \n",
    "def set_beat(VSA: np.ndarray, VSB : np.ndarray, return_type = 'dB|deg') -> np.ndarray:\n",
    "    ampl = np.sqrt(VSA[0]**2 + VSB[0]**2 + 2* VSA[0] * VSB[0] * np.cos(VSB[1] - VSA[1]))\n",
    "    phase = np.arctan2((VSA[0] * np.sin(VSA[1]) + VSB[0] * np.sin(VSB[1])),(VSA[0] * np.cos(VSA[1]) + VSB[0] * np.cos(VSB[1])))\n",
    "    type_ampl, type_phase = return_type.split('|')\n",
    "    if type_ampl == 'dB':\n",
    "        ampl = PR2dB(ampl)\n",
    "    if type_phase == 'deg':\n",
    "        phase = np.rad2deg(phase)\n",
    "    return np.array([ampl,phase,])\n",
    "\n",
    "def beat_function(S12,SRC,VAP):\n",
    "    F = np.zeros(2)\n",
    "    F[0] = -S12[0]**2 + SRC[0]**2 + VAP[0]**2 + 2 * SRC[0] * VAP[0] * np.cos(SRC[1] - VAP[1])\n",
    "    F[1] = -np.tan(S12[1]) + (SRC[0]*np.sin(SRC[1]) + VAP[0]*np.sin(VAP[1]))/ (SRC[0]*np.cos(SRC[1]) + VAP[0] * np.cos(VAP[1]))\n",
    "    return F\n",
    "\n",
    "# \\\\\\ Macros section"
   ]
  },
  {
   "cell_type": "code",
   "execution_count": 126,
   "metadata": {},
   "outputs": [],
   "source": [
    "# this if for TEST\n",
    "def target_fuction(delta_rx,ampl_rx, VSRC, VINC,ERROR_CONST):\n",
    "    VSRC_reversed = np.roll(VSRC,-1,axis=0)\n",
    "    VINC_reversed = np.roll(VINC,-1,axis=0)\n",
    "    F = np.zeros(8)\n",
    "    for i in range(4):\n",
    "        F[i] = np.angle(VSRC[i,0] + VINC[i,0] + 1j *(VSRC[i,1] + VINC[i,1])) -\\\n",
    "            np.angle(VSRC_reversed[i,0] + VINC_reversed[i,0] + 1j *(VSRC_reversed[i,1] + VINC_reversed[i,1])) - delta_rx[i] + ERROR_CONST[i]\n",
    "    for i in range(4,8):\n",
    "        F[i] = (VSRC[i-4,0] + VINC[i-4,0]) ** 2 + (VSRC_reversed[i-4,1] + VINC_reversed[i-4,1]) ** 2 - ampl_rx[i-4] ** 2\n",
    "    return F\n",
    "\n",
    "# This is for FSOLVE\n",
    "\n",
    "def target_fuction(delta_rx,ampl_rx, VSRC, VINC,ERROR_CONST):\n",
    "    VINC = VINC.reshape((4,2))\n",
    "    VSRC_reversed = np.roll(VSRC,-1,axis=0)\n",
    "    VINC_reversed = np.roll(VINC,-1,axis=0)\n",
    "    F = np.zeros(8)\n",
    "    for i in range(4):\n",
    "        F[i] = np.angle(VSRC_reversed[i,0] + VINC_reversed[i,0] + 1j *(VSRC_reversed[i,1] + VINC_reversed[i,1])) -\\\n",
    "            np.angle(VSRC[i,0] + VINC[i,0] + 1j *(VSRC[i,1] + VINC[i,1])) - delta_rx[i] + ERROR_CONST[i]\n",
    "    for i in range(4,8):\n",
    "        F[i] = (VSRC[i-4,0] + VINC[i-4,0]) ** 2 + (VSRC_reversed[i-4,1] + VINC_reversed[i-4,1]) ** 2 - ampl_rx[i-4] ** 2\n",
    "    return F\n"
   ]
  },
  {
   "cell_type": "code",
   "execution_count": 131,
   "metadata": {},
   "outputs": [
    {
     "name": "stderr",
     "output_type": "stream",
     "text": [
      "c:\\Users\\vovan\\AppData\\Local\\Programs\\Python\\Python310\\lib\\site-packages\\scipy\\optimize\\_minpack_py.py:177: RuntimeWarning: The iteration is not making good progress, as measured by the \n",
      "  improvement from the last five Jacobian evaluations.\n",
      "  warnings.warn(msg, RuntimeWarning)\n"
     ]
    },
    {
     "data": {
      "text/plain": [
       "array([-1.16429566e+00, -5.80304968e-01,  5.03403229e+00, -3.28943166e+00,\n",
       "       -2.72138662e-07, -9.10622633e-08,  6.41641456e-08, -1.40425784e-07])"
      ]
     },
     "execution_count": 131,
     "metadata": {},
     "output_type": "execute_result"
    }
   ],
   "source": [
    "SUnits = {'mm' : 1e-3,'cm' : 1e-2,'MHz' : 1e6,'GHz' : 1e9}\n",
    "Base = 7*SUnits['cm']\n",
    "MRX = SetMatrixRX(Base)\n",
    "NUM_OF_ELEMENTS = 4\n",
    "df = read_data(dict(CD = 'C:\\\\Users\\\\vovan\\\\PycharmProjects\\\\GUI_Test\\\\Meas\\\\Meas_KTRV', file_name = 'Meas_27.05.23.txt'))\n",
    "VSP0 = [convert_data(filter_data(df,freq = 3.5e9,az = 0,tilt = 0,num_of_element=i,iloc = 0),'dB|deg','VR|rad') for i in [3,2,1,0]]\n",
    "VSRX = [convert_data(filter_data(df,freq = 3.5e9,az = 24,tilt = 0,num_of_element=i,iloc = 0),'dB|deg','VR|rad') for i in [3,2,1,0]]\n",
    "phase_rx = np.zeros(NUM_OF_ELEMENTS)\n",
    "ampl_rx = np.zeros(NUM_OF_ELEMENTS)\n",
    "phase_p0 = np.zeros(NUM_OF_ELEMENTS)\n",
    "for i in range(len(phase_rx)):\n",
    "    phase_rx[i] = VSRX[i][1]\n",
    "    phase_p0[i] = VSP0[i][1]\n",
    "    ampl_rx[i] = VSRX[i][0]\n",
    "delta_phase = np.roll(phase_rx,-1) - phase_rx\n",
    "error_const = np.roll(phase_p0,-1) - phase_p0\n",
    "VSRC = np.zeros((NUM_OF_ELEMENTS,2))\n",
    "for i in range(NUM_OF_ELEMENTS):\n",
    "    A,P = SetAPD(10, -24, 0, 0, np.stack([MRX[i][0],MRX[i][1],0]), 3.5e9, 1, 'Z-AoE', FSetOffset)\n",
    "    complex_value = A * np.exp(1j*P)\n",
    "    VSRC[i,:] = [np.real(complex_value) , np.imag(complex_value)] \n",
    "VX0 = np.zeros(8)\n",
    "VX0 = VSRC.reshape((1,8))\n",
    "func = lambda VINC: target_fuction(delta_phase,ampl_rx, VSRC, VINC,error_const)\n",
    "result = scipy.optimize.fsolve(func,VX0)\n",
    "func(result)"
   ]
  },
  {
   "cell_type": "code",
   "execution_count": 144,
   "metadata": {},
   "outputs": [
    {
     "data": {
      "text/plain": [
       "array([-1.89820663e-01,  6.40855967e-01, -5.76840021e-01,  1.25804718e-01,\n",
       "       -5.00003004e+00, -2.00000405e+01, -1.00999883e+02, -3.41999904e+02])"
      ]
     },
     "execution_count": 144,
     "metadata": {},
     "output_type": "execute_result"
    }
   ],
   "source": [
    "# DO SOME TEST \n",
    "error_const = np.zeros(4)\n",
    "VSSRC = np.array([[1,2],[2,3],[4,5],[5,6]])\n",
    "VSINC = np.array([[2,3],[4,5],[2,8],[7,10]])\n",
    "VSSRC_reversed = np.roll(VSSRC,-1,axis = 0)\n",
    "VSRX = VSSRC + VSINC\n",
    "ampl_rx = [np.abs(VSRX[i,0] + 1j * VSRX[i,1]) for i in range(4)]\n",
    "VSRX_reversed = np.roll(VSRX,-1,axis = 0)\n",
    "delta_phase = [np.arctan2(VSRX[i,1],VSRX[i,0])-np.arctan2(VSRX_reversed[i,1],VSRX_reversed[i,0]) for i in range(4)]\n",
    "target_fuction(delta_phase,ampl_rx, VSRC, VSINC,error_const)"
   ]
  },
  {
   "cell_type": "code",
   "execution_count": 145,
   "metadata": {},
   "outputs": [
    {
     "data": {
      "text/plain": [
       "[5.830951894845301, 10.0, 14.317821063276353, 20.0]"
      ]
     },
     "execution_count": 145,
     "metadata": {},
     "output_type": "execute_result"
    }
   ],
   "source": [
    "ampl_rx"
   ]
  },
  {
   "cell_type": "code",
   "execution_count": 143,
   "metadata": {},
   "outputs": [
    {
     "data": {
      "text/plain": [
       "5.830951894845301"
      ]
     },
     "execution_count": 143,
     "metadata": {},
     "output_type": "execute_result"
    }
   ],
   "source": [
    "np.abs(VSRX[0,0] + 1j * VSRX[0,1])"
   ]
  },
  {
   "cell_type": "code",
   "execution_count": 122,
   "metadata": {},
   "outputs": [
    {
     "data": {
      "text/plain": [
       "array([[2, 2],\n",
       "       [3, 4],\n",
       "       [5, 5],\n",
       "       [6, 1]])"
      ]
     },
     "execution_count": 122,
     "metadata": {},
     "output_type": "execute_result"
    }
   ],
   "source": [
    "np.roll(VSSRC,-1)"
   ]
  },
  {
   "cell_type": "code",
   "execution_count": 112,
   "metadata": {},
   "outputs": [
    {
     "data": {
      "text/plain": [
       "array([ 6.47667781e-01, -4.46052824e+00,  5.43629369e+00, -5.12241549e+00,\n",
       "       -2.97696273e-07, -1.05760910e-07, -4.40171354e-08, -1.99133428e-07])"
      ]
     },
     "execution_count": 112,
     "metadata": {},
     "output_type": "execute_result"
    }
   ],
   "source": [
    "func(result)"
   ]
  },
  {
   "cell_type": "code",
   "execution_count": 106,
   "metadata": {},
   "outputs": [
    {
     "data": {
      "text/plain": [
       "array([ 3.77341900e+00, -4.49928201e+00,  5.66170819e+00, -3.72387367e+00,\n",
       "        7.68539905e-04,  1.10396374e-03,  1.04631751e-03,  7.10930493e-04])"
      ]
     },
     "execution_count": 106,
     "metadata": {},
     "output_type": "execute_result"
    }
   ],
   "source": [
    "result.reshape(4,2)\n",
    "func(result)"
   ]
  },
  {
   "cell_type": "code",
   "execution_count": 100,
   "metadata": {},
   "outputs": [
    {
     "data": {
      "text/plain": [
       "array([[-0.00023884,  0.00016227],\n",
       "       [ 0.00017735,  0.00022885],\n",
       "       [ 0.00017735,  0.00022885],\n",
       "       [-0.00023884,  0.00016227]])"
      ]
     },
     "execution_count": 100,
     "metadata": {},
     "output_type": "execute_result"
    }
   ],
   "source": [
    "VSRC"
   ]
  },
  {
   "cell_type": "code",
   "execution_count": 102,
   "metadata": {},
   "outputs": [
    {
     "data": {
      "text/plain": [
       "array([[-0.00023884,  0.00016227],\n",
       "       [ 0.00017735,  0.00022885],\n",
       "       [ 0.00017735,  0.00022885],\n",
       "       [-0.00023884,  0.00016227]])"
      ]
     },
     "execution_count": 102,
     "metadata": {},
     "output_type": "execute_result"
    }
   ],
   "source": [
    "VX0.reshape(4,2)"
   ]
  },
  {
   "cell_type": "code",
   "execution_count": 97,
   "metadata": {},
   "outputs": [
    {
     "data": {
      "text/plain": [
       "array([[-0.00023884,  0.00016227,  0.00017735,  0.00022885,  0.00017735,\n",
       "         0.00022885, -0.00023884,  0.00016227]])"
      ]
     },
     "execution_count": 97,
     "metadata": {},
     "output_type": "execute_result"
    }
   ],
   "source": [
    "VX0 = VSRC.reshape((1,8))\n",
    "VX0"
   ]
  },
  {
   "cell_type": "code",
   "execution_count": 94,
   "metadata": {},
   "outputs": [
    {
     "name": "stdout",
     "output_type": "stream",
     "text": [
      "[[-0.00023884  0.00016227  0.00017735  0.00022885  0.00017735  0.00022885\n",
      "  -0.00023884  0.00016227]]\n",
      "[[-0.00023884  0.00016227]\n",
      " [ 0.00017735  0.00022885]\n",
      " [ 0.00017735  0.00022885]\n",
      " [-0.00023884  0.00016227]]\n"
     ]
    }
   ],
   "source": [
    "print(VX0.reshape((1,8)))\n",
    "print(VX0)"
   ]
  },
  {
   "cell_type": "code",
   "execution_count": 90,
   "metadata": {},
   "outputs": [
    {
     "ename": "TypeError",
     "evalue": "reshape() takes exactly 1 argument (0 given)",
     "output_type": "error",
     "traceback": [
      "\u001b[1;31m---------------------------------------------------------------------------\u001b[0m",
      "\u001b[1;31mTypeError\u001b[0m                                 Traceback (most recent call last)",
      "\u001b[1;32mc:\\Users\\vovan\\PycharmProjects\\Compensation\\Compensation.ipynb Cell 4\u001b[0m in \u001b[0;36m<cell line: 1>\u001b[1;34m()\u001b[0m\n\u001b[1;32m----> <a href='vscode-notebook-cell:/c%3A/Users/vovan/PycharmProjects/Compensation/Compensation.ipynb#X20sZmlsZQ%3D%3D?line=0'>1</a>\u001b[0m VSRC\u001b[39m.\u001b[39;49mreshape()\n",
      "\u001b[1;31mTypeError\u001b[0m: reshape() takes exactly 1 argument (0 given)"
     ]
    }
   ],
   "source": [
    "VSRC.reshape()"
   ]
  },
  {
   "cell_type": "code",
   "execution_count": 87,
   "metadata": {},
   "outputs": [
    {
     "data": {
      "text/plain": [
       "array([ 3.98844242e+00, -5.92113152e+00,  1.20582351e+01, -2.92120333e+00,\n",
       "        5.59768718e-08,  1.45745719e-07,  3.09875968e-07,  2.56926191e-07])"
      ]
     },
     "execution_count": 87,
     "metadata": {},
     "output_type": "execute_result"
    }
   ],
   "source": [
    "func(VX0)"
   ]
  },
  {
   "cell_type": "code",
   "execution_count": 79,
   "metadata": {},
   "outputs": [
    {
     "name": "stdout",
     "output_type": "stream",
     "text": [
      "0.0\n",
      "0.0\n",
      "0.0\n",
      "0.0\n"
     ]
    }
   ],
   "source": [
    "a = np.zeros(4)\n",
    "for i in range(4,8):\n",
    "    print(a[i-4])"
   ]
  },
  {
   "cell_type": "code",
   "execution_count": 74,
   "metadata": {},
   "outputs": [
    {
     "data": {
      "text/plain": [
       "-0.00023883931885778587"
      ]
     },
     "execution_count": 74,
     "metadata": {},
     "output_type": "execute_result"
    }
   ],
   "source": [
    "VSRC[0,0]"
   ]
  },
  {
   "cell_type": "code",
   "execution_count": 22,
   "metadata": {},
   "outputs": [
    {
     "name": "stdout",
     "output_type": "stream",
     "text": [
      "S12 =[-43.862382 -43.813626]\n",
      "SRC =[-44.284054 147.574601]\n",
      "Compensated  = [-44.284054   147.57460101]\n"
     ]
    }
   ],
   "source": [
    "df = read_data(dict(CD = 'C:\\\\Users\\\\vovan\\\\PycharmProjects\\\\GUI_Test\\\\Meas\\\\Meas_KTRV', file_name = 'Meas_27.05.23.txt'))\n",
    "filtered_s12 = filter_data(df,freq = 4e9,az = 15,tilt = 0,num_of_element=3,iloc = 0)\n",
    "filtered_src = filter_data(df,freq = 4e9,az = 0,tilt = 0,num_of_element=0,iloc = 9)\n",
    "filtered_s12 = convert_data(filtered_s12,'dB|deg','VR|rad')\n",
    "filtered_src = convert_data(filtered_src,'dB|deg','VR|rad')\n",
    "fun = lambda VAP : beat_function(filtered_s12,filtered_src,VAP)\n",
    "f0 = [filtered_s12[0],0]\n",
    "ampl, phase  = scipy.optimize.fsolve(fun,f0,maxfev=1000)\n",
    "interfer = np.array([ampl,GetAngle(phase + np.pi)])\n",
    "result = set_beat(filtered_s12,interfer)\n",
    "print(f'S12 ={convert_data(filtered_s12,\"VR|rad\",\"dB|deg\")}')\n",
    "print(f'SRC ={convert_data(filtered_src,\"VR|rad\",\"dB|deg\")}')\n",
    "print(f'Compensated  = {result}')\n"
   ]
  },
  {
   "cell_type": "code",
   "execution_count": 40,
   "metadata": {},
   "outputs": [
    {
     "data": {
      "text/plain": [
       "False"
      ]
     },
     "execution_count": 40,
     "metadata": {},
     "output_type": "execute_result"
    }
   ],
   "source": [
    "A = 2 + 1j*0.2\n",
    "B = 1 + 1j*5\n",
    "np.angle(A) - np.angle(B)  == np.angle(A - B)"
   ]
  },
  {
   "cell_type": "code",
   "execution_count": 27,
   "metadata": {},
   "outputs": [
    {
     "name": "stdout",
     "output_type": "stream",
     "text": [
      "Ampl = 2.0, phase = 114.59155902616465 deg\n"
     ]
    },
    {
     "data": {
      "text/plain": [
       "array([  3.01050526, -65.40013334])"
      ]
     },
     "execution_count": 27,
     "metadata": {},
     "output_type": "execute_result"
    }
   ],
   "source": [
    "deg = lambda val : np.deg2rad(val)\n",
    "rad = lambda val : np.rad2deg(val)\n",
    "VSA = [0.0005,deg(0)]\n",
    "VSB = [0.0002,deg(170)]\n",
    "VSR = set_beat(VSA,VSB,'VR|rad')\n",
    "SRC = VSA\n",
    "S12 = VSR\n",
    "fun = lambda VAP :  my_test_fun(VRX = S12,VSRC = SRC,VINC = VAP)\n",
    "ampl, phase  = scipy.optimize.minimize(fun,[2,2]).x\n",
    "result = np.array([ampl,GetAngle(phase + np.pi)])\n",
    "phase = rad(GetAngle(phase))\n",
    "print(f'Ampl = {ampl}, phase = {phase} deg')\n",
    "set_beat(S12,result)\n"
   ]
  },
  {
   "cell_type": "code",
   "execution_count": 25,
   "metadata": {},
   "outputs": [
    {
     "data": {
      "text/plain": [
       "array([1., 0.])"
      ]
     },
     "execution_count": 25,
     "metadata": {},
     "output_type": "execute_result"
    }
   ],
   "source": [
    "result = scipy.optimize.minimize(fun,[1,0],method='Nelder-Mead',tol=1e-5)\n",
    "result.x"
   ]
  }
 ],
 "metadata": {
  "kernelspec": {
   "display_name": "Python 3",
   "language": "python",
   "name": "python3"
  },
  "language_info": {
   "codemirror_mode": {
    "name": "ipython",
    "version": 3
   },
   "file_extension": ".py",
   "mimetype": "text/x-python",
   "name": "python",
   "nbconvert_exporter": "python",
   "pygments_lexer": "ipython3",
   "version": "3.10.2"
  },
  "orig_nbformat": 4
 },
 "nbformat": 4,
 "nbformat_minor": 2
}
