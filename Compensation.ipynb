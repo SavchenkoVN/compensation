{
 "cells": [
  {
   "cell_type": "code",
   "execution_count": 173,
   "metadata": {},
   "outputs": [],
   "source": [
    "import numpy as np\n",
    "import pandas as pd\n",
    "import scipy\n",
    "import os\n",
    "def PR2dB(val):         # 2Do: add array support - REWRITE LATER\n",
    "    return 10 * np.log10(val)\n",
    "\n",
    "def VR2dB(val):         # 2Do: add array support - REWRITE LATER\n",
    "    return 2 * PR2dB(val)\n",
    "\n",
    "def GetAngle(alpha):\n",
    "    return np.arctan2(np.sin(alpha), np.cos(alpha))\n",
    "\n",
    "def set_beat(VSA: np.ndarray, VSB : np.ndarray, return_type = 'dB|deg') -> np.ndarray:\n",
    "    ampl = np.sqrt(VSA[0]**2 + VSB[0]**2 + 2* VSA[0] * VSB[0] * np.cos(VSB[1] - VSA[1]))\n",
    "    phase = np.arctan2((VSA[0] * np.sin(VSA[1]) + VSB[0] * np.sin(VSB[1])),(VSA[0] * np.cos(VSA[1]) + VSB[0] * np.cos(VSB[1])))\n",
    "    type_ampl, type_phase = return_type.split('|')\n",
    "    if type_ampl == 'dB':\n",
    "        ampl = PR2dB(ampl)\n",
    "    if type_phase == 'deg':\n",
    "        phase = np.rad2deg(phase)\n",
    "    return np.array([ampl,phase,])\n",
    "def beat_function(S12,SRC,VAP):\n",
    "    F = np.zeros(2)\n",
    "    F[0] = -S12[0]**2 + SRC[0]**2 + VAP[0]**2 + 2 * SRC[0] * VAP[0] * np.cos(SRC[1] - VAP[1])\n",
    "    F[1] = -np.tan(S12[1]) + (SRC[0]*np.sin(SRC[1]) + VAP[0]*np.sin(VAP[1]))/ (SRC[0]*np.cos(SRC[1]) + VAP[0] * np.cos(VAP[1]))\n",
    "    return F\n",
    "def read_data(file_dict : dict):\n",
    "    absolute_path = os.path.join(file_dict['CD'],file_dict['file_name'])\n",
    "    names = [['TimeStamp'],['Freq'],['Azimuth'],['Tilt']]\n",
    "    element_MA = [['A{}_MAG'.format(i),'A{}_ARG'.format(i)] for i in range(4)]\n",
    "    names.extend(element_MA)\n",
    "    names = [item for element in names for item in element]\n",
    "    data_frame = pd.read_csv(absolute_path,sep=';',comment = '#',header = None,names=names)\n",
    "    return data_frame\n",
    "def filter_data(df,freq,az,tilt,num_of_element,iloc):\n",
    "    locls = locals()\n",
    "    errors = 0\n",
    "    for e in ['df', 'iloc', 'num_of_element']:\n",
    "        locls.pop(e)\n",
    "    for key in locls.keys():\n",
    "        if locls[key] not in df.values:\n",
    "            print(f'{key} = {locls[key]} not in DataFrame')\n",
    "            errors = 1\n",
    "    if errors == 1:\n",
    "        return 0\n",
    "    return df[((df.Freq == freq) & (df.Azimuth == az) & (df.Tilt == tilt))][['A{}_MAG'.format(num_of_element),'A{}_ARG'.format(num_of_element)]].iloc[iloc].to_numpy()\n",
    "def convert_data(src,src_format, dst_format):\n",
    "    if src_format == dst_format:\n",
    "        return src\n",
    "    else:\n",
    "        src_mag_format, src_arg_format = src_format.split('|')\n",
    "        dst_mag_format, dst_arg_format = dst_format.split('|')\n",
    "        if src_mag_format != dst_mag_format:\n",
    "            if src_mag_format == 'dB' and dst_mag_format == 'VR':\n",
    "                src[0] = 10**(0.1*src[0])\n",
    "            else:\n",
    "                src[0] = PR2dB(src[0])\n",
    "        if src_arg_format != dst_arg_format:\n",
    "            if src_arg_format == 'deg' and dst_arg_format == 'rad':\n",
    "                src[1] = np.deg2rad(src[1])\n",
    "            else:\n",
    "                src[1] = np.rad2deg(src[1])\n",
    "        return src\n",
    "def set_beat(VSA: np.ndarray, VSB : np.ndarray, return_type = 'dB|deg') -> np.ndarray:\n",
    "    ampl = np.sqrt(VSA[0]**2 + VSB[0]**2 + 2* VSA[0] * VSB[0] * np.cos(VSB[1] - VSA[1]))\n",
    "    phase = np.arctan2((VSA[0] * np.sin(VSA[1]) + VSB[0] * np.sin(VSB[1])),(VSA[0] * np.cos(VSA[1]) + VSB[0] * np.cos(VSB[1])))\n",
    "    type_ampl, type_phase = return_type.split('|')\n",
    "    if type_ampl == 'dB':\n",
    "        ampl = PR2dB(ampl)\n",
    "    if type_phase == 'deg':\n",
    "        phase = np.rad2deg(phase)\n",
    "    return np.array([ampl,phase,])\n",
    "def beat_function(S12,SRC,VAP):\n",
    "    F = np.zeros(2)\n",
    "    F[0] = -S12[0]**2 + SRC[0]**2 + VAP[0]**2 + 2 * SRC[0] * VAP[0] * np.cos(SRC[1] - VAP[1])\n",
    "    F[1] = -np.tan(S12[1]) + (SRC[0]*np.sin(SRC[1]) + VAP[0]*np.sin(VAP[1]))/ (SRC[0]*np.cos(SRC[1]) + VAP[0] * np.cos(VAP[1]))\n",
    "    return F\n",
    "\n",
    "# \\\\\\ Macros section"
   ]
  },
  {
   "cell_type": "code",
   "execution_count": 303,
   "metadata": {},
   "outputs": [
    {
     "name": "stdout",
     "output_type": "stream",
     "text": [
      "S12 =[-37.082174 -51.553852]\n",
      "SRC =[-44.284054 147.574601]\n",
      "Compensated  = [-44.284054 147.574601]\n"
     ]
    }
   ],
   "source": [
    "df = read_data(dict(CD = 'C:\\\\Users\\\\vovan\\\\PycharmProjects\\\\GUI_Test\\\\Meas\\\\Meas_KTRV', file_name = 'Meas_27.05.23.txt'))\n",
    "filtered_s12 = filter_data(df,freq = 1e9,az = 0,tilt = 0,num_of_element=3,iloc = 0)\n",
    "filtered_src = filter_data(df,freq = 4e9,az = 0,tilt = 0,num_of_element=0,iloc = 9)\n",
    "filtered_s12 = convert_data(filtered_s12,'dB|deg','VR|rad')\n",
    "filtered_src = convert_data(filtered_src,'dB|deg','VR|rad')\n",
    "fun = lambda VAP : beat_function(filtered_s12,filtered_src,VAP)\n",
    "f0 = [filtered_s12[0],0]\n",
    "ampl, phase  = scipy.optimize.fsolve(fun,f0,maxfev=1000)\n",
    "interfer = np.array([ampl,GetAngle(phase + np.pi)])\n",
    "result = set_beat(filtered_s12,interfer)\n",
    "print(f'S12 ={convert_data(filtered_s12,\"VR|rad\",\"dB|deg\")}')\n",
    "print(f'SRC ={convert_data(filtered_src,\"VR|rad\",\"dB|deg\")}')\n",
    "print(f'Compensated  = {result}')\n"
   ]
  },
  {
   "cell_type": "code",
   "execution_count": 272,
   "metadata": {},
   "outputs": [
    {
     "data": {
      "text/plain": [
       "2.1164922762851344"
      ]
     },
     "execution_count": 272,
     "metadata": {},
     "output_type": "execute_result"
    }
   ],
   "source": [
    "np.random.randn()"
   ]
  },
  {
   "cell_type": "code",
   "execution_count": 110,
   "metadata": {},
   "outputs": [
    {
     "name": "stdout",
     "output_type": "stream",
     "text": [
      "Ampl = 4.537253968548578e-08, phase = 5.089498156840467e-07 deg\n"
     ]
    },
    {
     "data": {
      "text/plain": [
       "array([-44.37385596, -38.4860302 ])"
      ]
     },
     "execution_count": 110,
     "metadata": {},
     "output_type": "execute_result"
    }
   ],
   "source": [
    "deg = lambda val : np.deg2rad(val)\n",
    "rad = lambda val : np.rad2deg(val)\n",
    "VSA = [0.0005,deg(0)]\n",
    "VSB = [0.0002,deg(170)]\n",
    "VSR = set_beat(VSA,VSB,'VR|rad')\n",
    "SRC = VSA\n",
    "S12 = VSR\n",
    "fun = lambda VAP : beat_function(S12,SRC,VAP)\n",
    "ampl, phase  = scipy.optimize.fsolve(fun,[0,0])\n",
    "result = np.array([ampl,GetAngle(phase + np.pi)])\n",
    "phase = rad(GetAngle(phase))\n",
    "print(f'Ampl = {ampl}, phase = {phase} deg')\n",
    "set_beat(S12,result)\n"
   ]
  }
 ],
 "metadata": {
  "kernelspec": {
   "display_name": "Python 3",
   "language": "python",
   "name": "python3"
  },
  "language_info": {
   "codemirror_mode": {
    "name": "ipython",
    "version": 3
   },
   "file_extension": ".py",
   "mimetype": "text/x-python",
   "name": "python",
   "nbconvert_exporter": "python",
   "pygments_lexer": "ipython3",
   "version": "3.10.2"
  },
  "orig_nbformat": 4
 },
 "nbformat": 4,
 "nbformat_minor": 2
}
